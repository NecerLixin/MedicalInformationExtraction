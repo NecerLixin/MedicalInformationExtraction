{
 "cells": [
  {
   "cell_type": "code",
   "execution_count": 18,
   "metadata": {},
   "outputs": [],
   "source": [
    "import json\n",
    "from my_utils import NERDataset,collate_fn\n",
    "from torch.utils.data import Dataset,DataLoader"
   ]
  },
  {
   "cell_type": "code",
   "execution_count": 2,
   "metadata": {},
   "outputs": [
    {
     "name": "stdout",
     "output_type": "stream",
     "text": [
      "([[2584, 825, 2075, 1147, 1814, 1019, 122, 1515, 1147, 2448, 737, 2670, 926, 2448, 737, 2670, 1983, 970, 899, 564, 2075, 899, 1518, 737], [1147, 1814, 2670, 570, 2501, 2485, 737, '#', '#', '#', '#', '#', '#', '#', '#', '#', '#', '#', '#', '#', '#', '#', '#', '#'], [2670, 2738, 1123, 2696, 2448, 737, '#', '#', '#', '#', '#', '#', '#', '#', '#', '#', '#', '#', '#', '#', '#', '#', '#', '#'], [2670, 2959, 2501, '#', '#', '#', '#', '#', '#', '#', '#', '#', '#', '#', '#', '#', '#', '#', '#', '#', '#', '#', '#', '#'], [1983, 2738, 870, 2075, 864, 1983, 926, 899, 1518, '#', '#', '#', '#', '#', '#', '#', '#', '#', '#', '#', '#', '#', '#', '#'], [2747, 1542, 2670, 2093, 210, 2448, 737, '#', '#', '#', '#', '#', '#', '#', '#', '#', '#', '#', '#', '#', '#', '#', '#', '#'], [2670, 1983, 1549, 2604, 2696, 1455, 737, '#', '#', '#', '#', '#', '#', '#', '#', '#', '#', '#', '#', '#', '#', '#', '#', '#'], [1983, 2670, '#', '#', '#', '#', '#', '#', '#', '#', '#', '#', '#', '#', '#', '#', '#', '#', '#', '#', '#', '#', '#', '#']], [[10, 10, 10, 4, 9, 10, 10, 10, 4, 10, 10, 10, 4, 10, 10, 10, 10, 4, 9, 9, 10, 4, 9, 10], [4, 9, 10, 10, 10, 10, 10], [10, 4, 9, 10, 10, 10], [10, 10, 10], [10, 4, 9, 10, 10, 10, 4, 4, 9], [10, 10, 10, 4, 9, 10, 10], [10, 10, 10, 10, 4, 9, 10], [10, 10]])\n"
     ]
    }
   ],
   "source": [
    "dataset = NERDataset('nlp2024-data/dataset/dev.json')\n",
    "dataloader = DataLoader(dataset,batch_size=8,collate_fn=collate_fn)\n",
    "for batch in dataloader:\n",
    "    print(batch)\n",
    "    break"
   ]
  },
  {
   "cell_type": "code",
   "execution_count": 20,
   "metadata": {},
   "outputs": [],
   "source": [
    "## 获取所有字符\n",
    "data_dev = json.load(open('nlp2024-data/dataset/dev.json',encoding='utf-8'))\n",
    "data_train = json.load(open('nlp2024-data/dataset/train.json',encoding='utf-8'))\n",
    "def get_text_set(data):\n",
    "    text_set = set()\n",
    "    for key,val in data.items():\n",
    "        for character in val['diagnosis']:\n",
    "            text_set.add(character)\n",
    "        for character in val['self_report']:\n",
    "            text_set.add(character)\n",
    "        dialogues = val['dialogue']\n",
    "        for dia in dialogues:\n",
    "            for character in dia['speaker']:\n",
    "                text_set.add(character)\n",
    "            for character in dia['sentence']:\n",
    "                text_set.add(character)\n",
    "            for word in dia['symptom_norm']:\n",
    "                for character in word:\n",
    "                    text_set.add(character)\n",
    "    return text_set\n",
    "text_set_train = get_text_set(data_train)\n",
    "text_set_dev = get_text_set(data_dev)\n",
    "text_set = text_set_dev | text_set_train\n",
    "len(text_set)\n",
    "text_list = list(text_set)\n",
    "text_list.append('#')\n",
    "text_dict = {text_list[i]:i for i in range(len(text_list))}\n",
    "with open('char2id.json','w',encoding='utf-8') as f:\n",
    "    json.dump(text_dict,f,ensure_ascii=False)"
   ]
  },
  {
   "cell_type": "code",
   "execution_count": 4,
   "metadata": {},
   "outputs": [
    {
     "data": {
      "application/vnd.jupyter.widget-view+json": {
       "model_id": "131ca9bf449f45c6969d7ec85a095f8d",
       "version_major": 2,
       "version_minor": 0
      },
      "text/plain": [
       "model.safetensors:   0%|          | 0.00/412M [00:00<?, ?B/s]"
      ]
     },
     "metadata": {},
     "output_type": "display_data"
    }
   ],
   "source": [
    "from transformers import BertModel,BertTokenizer\n",
    "tokenizer = BertTokenizer.from_pretrained('bert-base-chinese')\n",
    "model = BertModel.from_pretrained('bert-base-chinese')"
   ]
  },
  {
   "cell_type": "code",
   "execution_count": 12,
   "metadata": {},
   "outputs": [
    {
     "data": {
      "text/plain": [
       "{'input_ids': tensor([[ 101,  872, 1962,  102]]), 'token_type_ids': tensor([[0, 0, 0, 0]]), 'attention_mask': tensor([[1, 1, 1, 1]])}"
      ]
     },
     "execution_count": 12,
     "metadata": {},
     "output_type": "execute_result"
    }
   ],
   "source": [
    "text = '你好'\n",
    "inputs = tokenizer(text,return_tensors='pt',padding=True,truncation=True)\n",
    "inputs"
   ]
  },
  {
   "cell_type": "code",
   "execution_count": 13,
   "metadata": {},
   "outputs": [],
   "source": [
    "out = model(**inputs)"
   ]
  },
  {
   "cell_type": "code",
   "execution_count": 16,
   "metadata": {},
   "outputs": [
    {
     "data": {
      "text/plain": [
       "torch.Size([1, 4, 768])"
      ]
     },
     "execution_count": 16,
     "metadata": {},
     "output_type": "execute_result"
    }
   ],
   "source": [
    "out.last_hidden_state.shape"
   ]
  },
  {
   "cell_type": "code",
   "execution_count": 19,
   "metadata": {},
   "outputs": [],
   "source": [
    "from my_utils import NERDatasetBert, collate_fn_bert\n",
    "datasetBert = NERDatasetBert('nlp2024-data/dataset/dev.json',tokenizer)\n",
    "dataloader = DataLoader(datasetBert,batch_size=2, collate_fn=collate_fn_bert)\n"
   ]
  },
  {
   "cell_type": "code",
   "execution_count": 21,
   "metadata": {},
   "outputs": [
    {
     "name": "stdout",
     "output_type": "stream",
     "text": [
      "(tensor([[ 101,  872, 1962, 8024, 1495, 1644, 3221, 6825, 1898, 1495, 1408, 8043,\n",
      "         3300, 4588, 1408, 8043, 3300, 3766, 3837, 7965, 3873, 8024, 7965, 1853,\n",
      "         8043,  102],\n",
      "        [ 101, 1495, 1644, 3300, 1126, 1921,  749, 8043,  102,    0,    0,    0,\n",
      "            0,    0,    0,    0,    0,    0,    0,    0,    0,    0,    0,    0,\n",
      "            0,    0]]), tensor([[ 101,  872, 1962, 8024, 1495, 1644, 3221, 6825, 1898, 1495, 1408, 8043,\n",
      "         3300, 4588, 1408, 8043, 3300, 3766, 3837, 7965, 3873, 8024, 7965, 1853,\n",
      "         8043,  102],\n",
      "        [ 101, 1495, 1644, 3300, 1126, 1921,  749, 8043,  102,    0,    0,    0,\n",
      "            0,    0,    0,    0,    0,    0,    0,    0,    0,    0,    0,    0,\n",
      "            0,    0]]), tensor([[1., 1., 1., 1., 1., 1., 1., 1., 1., 1., 1., 1., 1., 1., 1., 1., 1., 1.,\n",
      "         1., 1., 1., 1., 1., 1., 1., 1.],\n",
      "        [1., 1., 1., 1., 1., 1., 1., 1., 1., 0., 0., 0., 0., 0., 0., 0., 0., 0.,\n",
      "         0., 0., 0., 0., 0., 0., 0., 0.]]))\n"
     ]
    }
   ],
   "source": [
    "for batch in dataloader:\n",
    "    print(batch)\n",
    "    break"
   ]
  }
 ],
 "metadata": {
  "kernelspec": {
   "display_name": "pytorch",
   "language": "python",
   "name": "python3"
  },
  "language_info": {
   "codemirror_mode": {
    "name": "ipython",
    "version": 3
   },
   "file_extension": ".py",
   "mimetype": "text/x-python",
   "name": "python",
   "nbconvert_exporter": "python",
   "pygments_lexer": "ipython3",
   "version": "3.10.0"
  }
 },
 "nbformat": 4,
 "nbformat_minor": 2
}
