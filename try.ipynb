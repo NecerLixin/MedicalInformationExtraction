{
 "cells": [
  {
   "cell_type": "code",
   "execution_count": 1,
   "metadata": {},
   "outputs": [],
   "source": [
    "import json\n",
    "from my_utils import NERDataset,collate_fn\n",
    "from torch.utils.data import Dataset,DataLoader"
   ]
  },
  {
   "cell_type": "code",
   "execution_count": 2,
   "metadata": {},
   "outputs": [
    {
     "name": "stdout",
     "output_type": "stream",
     "text": [
      "([[2584, 825, 2075, 1147, 1814, 1019, 122, 1515, 1147, 2448, 737, 2670, 926, 2448, 737, 2670, 1983, 970, 899, 564, 2075, 899, 1518, 737], [1147, 1814, 2670, 570, 2501, 2485, 737, '#', '#', '#', '#', '#', '#', '#', '#', '#', '#', '#', '#', '#', '#', '#', '#', '#'], [2670, 2738, 1123, 2696, 2448, 737, '#', '#', '#', '#', '#', '#', '#', '#', '#', '#', '#', '#', '#', '#', '#', '#', '#', '#'], [2670, 2959, 2501, '#', '#', '#', '#', '#', '#', '#', '#', '#', '#', '#', '#', '#', '#', '#', '#', '#', '#', '#', '#', '#'], [1983, 2738, 870, 2075, 864, 1983, 926, 899, 1518, '#', '#', '#', '#', '#', '#', '#', '#', '#', '#', '#', '#', '#', '#', '#'], [2747, 1542, 2670, 2093, 210, 2448, 737, '#', '#', '#', '#', '#', '#', '#', '#', '#', '#', '#', '#', '#', '#', '#', '#', '#'], [2670, 1983, 1549, 2604, 2696, 1455, 737, '#', '#', '#', '#', '#', '#', '#', '#', '#', '#', '#', '#', '#', '#', '#', '#', '#'], [1983, 2670, '#', '#', '#', '#', '#', '#', '#', '#', '#', '#', '#', '#', '#', '#', '#', '#', '#', '#', '#', '#', '#', '#']], [[10, 10, 10, 4, 9, 10, 10, 10, 4, 10, 10, 10, 4, 10, 10, 10, 10, 4, 9, 9, 10, 4, 9, 10], [4, 9, 10, 10, 10, 10, 10], [10, 4, 9, 10, 10, 10], [10, 10, 10], [10, 4, 9, 10, 10, 10, 4, 4, 9], [10, 10, 10, 4, 9, 10, 10], [10, 10, 10, 10, 4, 9, 10], [10, 10]])\n"
     ]
    }
   ],
   "source": [
    "dataset = NERDataset('nlp2024-data/dataset/dev.json')\n",
    "dataloader = DataLoader(dataset,batch_size=8,collate_fn=collate_fn)\n",
    "for batch in dataloader:\n",
    "    print(batch)\n",
    "    break"
   ]
  },
  {
   "cell_type": "code",
   "execution_count": 20,
   "metadata": {},
   "outputs": [],
   "source": [
    "## 获取所有字符\n",
    "data_dev = json.load(open('nlp2024-data/dataset/dev.json',encoding='utf-8'))\n",
    "data_train = json.load(open('nlp2024-data/dataset/train.json',encoding='utf-8'))\n",
    "def get_text_set(data):\n",
    "    text_set = set()\n",
    "    for key,val in data.items():\n",
    "        for character in val['diagnosis']:\n",
    "            text_set.add(character)\n",
    "        for character in val['self_report']:\n",
    "            text_set.add(character)\n",
    "        dialogues = val['dialogue']\n",
    "        for dia in dialogues:\n",
    "            for character in dia['speaker']:\n",
    "                text_set.add(character)\n",
    "            for character in dia['sentence']:\n",
    "                text_set.add(character)\n",
    "            for word in dia['symptom_norm']:\n",
    "                for character in word:\n",
    "                    text_set.add(character)\n",
    "    return text_set\n",
    "text_set_train = get_text_set(data_train)\n",
    "text_set_dev = get_text_set(data_dev)\n",
    "text_set = text_set_dev | text_set_train\n",
    "len(text_set)\n",
    "text_list = list(text_set)\n",
    "text_list.append('#')\n",
    "text_dict = {text_list[i]:i for i in range(len(text_list))}\n",
    "with open('char2id.json','w',encoding='utf-8') as f:\n",
    "    json.dump(text_dict,f,ensure_ascii=False)"
   ]
  },
  {
   "cell_type": "code",
   "execution_count": 2,
   "metadata": {},
   "outputs": [
    {
     "name": "stderr",
     "output_type": "stream",
     "text": [
      "/Users/lijinliang/opt/anaconda3/envs/pytorch/lib/python3.10/site-packages/pandas/core/arrays/masked.py:60: UserWarning: Pandas requires version '1.3.6' or newer of 'bottleneck' (version '1.3.5' currently installed).\n",
      "  from pandas.core import (\n",
      "/Users/lijinliang/opt/anaconda3/envs/pytorch/lib/python3.10/site-packages/huggingface_hub/file_download.py:1132: FutureWarning: `resume_download` is deprecated and will be removed in version 1.0.0. Downloads always resume when possible. If you want to force a new download, use `force_download=True`.\n",
      "  warnings.warn(\n"
     ]
    }
   ],
   "source": [
    "from transformers import BertModel,BertTokenizer\n",
    "tokenizer = BertTokenizer.from_pretrained('bert-base-chinese')\n",
    "model = BertModel.from_pretrained('bert-base-chinese')"
   ]
  },
  {
   "cell_type": "code",
   "execution_count": 12,
   "metadata": {},
   "outputs": [
    {
     "data": {
      "text/plain": [
       "{'input_ids': tensor([[ 101,  872, 1962,  102]]), 'token_type_ids': tensor([[0, 0, 0, 0]]), 'attention_mask': tensor([[1, 1, 1, 1]])}"
      ]
     },
     "execution_count": 12,
     "metadata": {},
     "output_type": "execute_result"
    }
   ],
   "source": [
    "text = '你好'\n",
    "inputs = tokenizer(text,return_tensors='pt',padding=True,truncation=True)\n",
    "inputs"
   ]
  },
  {
   "cell_type": "code",
   "execution_count": 13,
   "metadata": {},
   "outputs": [],
   "source": [
    "out = model(**inputs)"
   ]
  },
  {
   "cell_type": "code",
   "execution_count": 16,
   "metadata": {},
   "outputs": [
    {
     "data": {
      "text/plain": [
       "torch.Size([1, 4, 768])"
      ]
     },
     "execution_count": 16,
     "metadata": {},
     "output_type": "execute_result"
    }
   ],
   "source": [
    "out.last_hidden_state.shape"
   ]
  },
  {
   "cell_type": "code",
   "execution_count": 3,
   "metadata": {},
   "outputs": [],
   "source": [
    "from my_utils import NERDatasetBert, collate_fn_bert\n",
    "datasetBert = NERDatasetBert('nlp2024-data/dataset/dev.json',tokenizer)\n",
    "dataloader = DataLoader(datasetBert,batch_size=2, collate_fn=collate_fn_bert)\n"
   ]
  },
  {
   "cell_type": "code",
   "execution_count": 5,
   "metadata": {},
   "outputs": [
    {
     "name": "stdout",
     "output_type": "stream",
     "text": [
      "BaseModelOutputWithPoolingAndCrossAttentions(last_hidden_state=tensor([[[ 0.7955, -0.0604, -0.5145,  ..., -0.0065, -0.0573,  0.0602],\n",
      "         [ 0.0069, -0.1325,  0.1473,  ..., -0.6525, -0.4242,  0.1753],\n",
      "         [ 0.8572,  0.2717,  0.3732,  ..., -0.1347,  0.5311, -0.4706],\n",
      "         ...,\n",
      "         [ 0.6514, -0.5964, -0.2139,  ...,  0.6149,  0.1953,  0.6304],\n",
      "         [ 0.5118,  0.4172, -0.5241,  ..., -0.5596,  0.4079, -0.0406],\n",
      "         [ 0.0385, -0.4536, -0.0262,  ..., -0.3393, -0.2469,  0.2462]],\n",
      "\n",
      "        [[ 0.4655, -0.4097, -0.0354,  ...,  0.1277,  0.0083, -0.1648],\n",
      "         [ 0.0356, -0.2946, -0.5383,  ..., -0.3654, -0.5864,  0.3523],\n",
      "         [ 0.5439, -1.2687, -0.8399,  ...,  0.5940, -0.0624,  0.2715],\n",
      "         ...,\n",
      "         [ 0.2470, -0.0931, -0.1315,  ..., -0.3311, -0.1926, -0.1254],\n",
      "         [ 0.1547, -0.4363, -0.2219,  ..., -0.1255, -0.2254, -0.0903],\n",
      "         [ 0.1825, -0.3251, -0.1521,  ..., -0.1516, -0.2679, -0.1133]]],\n",
      "       grad_fn=<NativeLayerNormBackward0>), pooler_output=tensor([[ 0.9995,  0.9973,  0.9999,  ..., -0.8627, -0.9973,  0.6674],\n",
      "        [ 0.9999,  0.9983,  0.9999,  ..., -0.9174, -0.9977,  0.8010]],\n",
      "       grad_fn=<TanhBackward0>), hidden_states=None, past_key_values=None, attentions=None, cross_attentions=None)\n"
     ]
    }
   ],
   "source": [
    "for batch in dataloader:\n",
    "    inputs = {\"input_ids\":batch[0],\n",
    "              \"attention_mask\":batch[1]}\n",
    "    out = model(**inputs)\n",
    "    print(out)\n",
    "    break"
   ]
  },
  {
   "cell_type": "code",
   "execution_count": null,
   "metadata": {},
   "outputs": [],
   "source": []
  }
 ],
 "metadata": {
  "kernelspec": {
   "display_name": "pytorch",
   "language": "python",
   "name": "python3"
  },
  "language_info": {
   "codemirror_mode": {
    "name": "ipython",
    "version": 3
   },
   "file_extension": ".py",
   "mimetype": "text/x-python",
   "name": "python",
   "nbconvert_exporter": "python",
   "pygments_lexer": "ipython3",
   "version": "3.1.undefined"
  }
 },
 "nbformat": 4,
 "nbformat_minor": 2
}
